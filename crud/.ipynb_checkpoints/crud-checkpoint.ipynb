{
 "cells": [
  {
   "cell_type": "code",
   "execution_count": 1,
   "metadata": {},
   "outputs": [],
   "source": [
    "import ipywidgets as widgets\n",
    "from IPython.display import display\n",
    "from ipywidgets import interact\n",
    "import pandas as pd\n",
    "import psycopg2 as pg\n",
    "import sqlalchemy\n",
    "from sqlalchemy import create_engine"
   ]
  },
  {
   "cell_type": "code",
   "execution_count": 2,
   "metadata": {},
   "outputs": [],
   "source": [
    "con = pg.connect(host='localhost', dbname= 'quisaude', user='postgres', password= '12345')"
   ]
  },
  {
   "cell_type": "code",
   "execution_count": 3,
   "metadata": {},
   "outputs": [],
   "source": [
    "tipo = \"AAAAAAAAAA\"\n",
    "\n",
    "output = widgets.Output()\n",
    "\n",
    "lbl_titulo = widgets.Label(description=tipo)\n",
    "\n",
    "btn_instituicoes = widgets.Button(description=\"INSTITUIÇÕES\")\n",
    "btn_campanhas = widgets.Button(description=\"CAMPANHAS\")\n",
    "btn_servicos = widgets.Button(description=\"SERVIÇOS\")\n",
    "btn_medicos = widgets.Button(description=\"MÉDICOS\")\n",
    "btn_menu = widgets.Button(description=\"MENU\")\n",
    "\n",
    "btn_insert = widgets.Button(description=\"Inserir\")\n",
    "btn_remove = widgets.Button(description=\"Remover\")\n",
    "btn_update = widgets.Button(description=\"Atualizar\")\n",
    "btn_get_all = widgets.Button(description=\"Ver Todos\")"
   ]
  },
  {
   "cell_type": "code",
   "execution_count": 4,
   "metadata": {},
   "outputs": [],
   "source": [
    "def display_menu():\n",
    "    display(btn_instituicoes, btn_campanhas, btn_servicos, btn_medicos)\n",
    "\n",
    "def display_instituicoes_crud(b):\n",
    "    tipo = \"Instituições\"\n",
    "    display(\"todavia\",btn_insert, btn_remove, btn_update, btn_get_all)\n",
    "\n",
    "def display_menu_crud():\n",
    "    display(btn_insert, btn_remove, btn_update, btn_get_all)"
   ]
  },
  {
   "cell_type": "code",
   "execution_count": 5,
   "metadata": {},
   "outputs": [],
   "source": [
    "btn_instituicoes.on_click(display_instituicoes_crud)"
   ]
  },
  {
   "cell_type": "code",
   "execution_count": 6,
   "metadata": {},
   "outputs": [
    {
     "data": {
      "application/vnd.jupyter.widget-view+json": {
       "model_id": "6b3deefafbe846e8afe669eae0db4bf0",
       "version_major": 2,
       "version_minor": 0
      },
      "text/plain": [
       "Button(description='INSTITUIÇÕES', style=ButtonStyle())"
      ]
     },
     "metadata": {},
     "output_type": "display_data"
    },
    {
     "data": {
      "application/vnd.jupyter.widget-view+json": {
       "model_id": "73fb2f332170437f814a4a02e9c22a3d",
       "version_major": 2,
       "version_minor": 0
      },
      "text/plain": [
       "Button(description='CAMPANHAS', style=ButtonStyle())"
      ]
     },
     "metadata": {},
     "output_type": "display_data"
    },
    {
     "data": {
      "application/vnd.jupyter.widget-view+json": {
       "model_id": "d51736a58e4241ea85cf472c375e6790",
       "version_major": 2,
       "version_minor": 0
      },
      "text/plain": [
       "Button(description='SERVIÇOS', style=ButtonStyle())"
      ]
     },
     "metadata": {},
     "output_type": "display_data"
    },
    {
     "data": {
      "application/vnd.jupyter.widget-view+json": {
       "model_id": "ba04a6fed73e48339eed39c75a106f27",
       "version_major": 2,
       "version_minor": 0
      },
      "text/plain": [
       "Button(description='MÉDICOS', style=ButtonStyle())"
      ]
     },
     "metadata": {},
     "output_type": "display_data"
    },
    {
     "data": {
      "text/plain": [
       "'todavia'"
      ]
     },
     "metadata": {},
     "output_type": "display_data"
    },
    {
     "data": {
      "application/vnd.jupyter.widget-view+json": {
       "model_id": "d751b63fea8b4d74bcca166299e194b8",
       "version_major": 2,
       "version_minor": 0
      },
      "text/plain": [
       "Button(description='Inserir', style=ButtonStyle())"
      ]
     },
     "metadata": {},
     "output_type": "display_data"
    },
    {
     "data": {
      "application/vnd.jupyter.widget-view+json": {
       "model_id": "08614ccea1a74bb58a70befff9f48a23",
       "version_major": 2,
       "version_minor": 0
      },
      "text/plain": [
       "Button(description='Remover', style=ButtonStyle())"
      ]
     },
     "metadata": {},
     "output_type": "display_data"
    },
    {
     "data": {
      "application/vnd.jupyter.widget-view+json": {
       "model_id": "40aac36fe4de489b8566eb1e32409712",
       "version_major": 2,
       "version_minor": 0
      },
      "text/plain": [
       "Button(description='Atualizar', style=ButtonStyle())"
      ]
     },
     "metadata": {},
     "output_type": "display_data"
    },
    {
     "data": {
      "application/vnd.jupyter.widget-view+json": {
       "model_id": "3a73ff86d3074ddc8f34187eaab96402",
       "version_major": 2,
       "version_minor": 0
      },
      "text/plain": [
       "Button(description='Ver Todos', style=ButtonStyle())"
      ]
     },
     "metadata": {},
     "output_type": "display_data"
    }
   ],
   "source": [
    "display(btn_instituicoes, btn_campanhas, btn_servicos, btn_medicos)"
   ]
  },
  {
   "cell_type": "code",
   "execution_count": null,
   "metadata": {},
   "outputs": [],
   "source": []
  }
 ],
 "metadata": {
  "kernelspec": {
   "display_name": "Python 3 (ipykernel)",
   "language": "python",
   "name": "python3"
  },
  "language_info": {
   "codemirror_mode": {
    "name": "ipython",
    "version": 3
   },
   "file_extension": ".py",
   "mimetype": "text/x-python",
   "name": "python",
   "nbconvert_exporter": "python",
   "pygments_lexer": "ipython3",
   "version": "3.9.13"
  }
 },
 "nbformat": 4,
 "nbformat_minor": 1
}
