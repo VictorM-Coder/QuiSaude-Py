{
 "cells": [
  {
   "cell_type": "code",
   "execution_count": 1,
   "metadata": {},
   "outputs": [],
   "source": [
    "# QuiSaúde"
   ]
  },
  {
   "cell_type": "markdown",
   "metadata": {},
   "source": [
    "## Imports"
   ]
  },
  {
   "cell_type": "code",
   "execution_count": 2,
   "metadata": {},
   "outputs": [],
   "source": [
    "import ipywidgets as widgets\n",
    "from IPython.display import display\n",
    "from ipywidgets import interact\n",
    "import pandas as pd\n",
    "import psycopg2 as pg\n",
    "import sqlalchemy\n",
    "from datetime import date\n",
    "from sqlalchemy import create_engine\n",
    "from IPython.display import clear_output"
   ]
  },
  {
   "cell_type": "markdown",
   "metadata": {},
   "source": [
    "## Conexão"
   ]
  },
  {
   "cell_type": "code",
   "execution_count": 3,
   "metadata": {},
   "outputs": [],
   "source": [
    "con = pg.connect(host='localhost', dbname= 'quisaude', user='postgres', password= '12345')"
   ]
  },
  {
   "cell_type": "markdown",
   "metadata": {},
   "source": [
    "## Componentes"
   ]
  },
  {
   "cell_type": "markdown",
   "metadata": {},
   "source": [
    "### Componentes Gerais"
   ]
  },
  {
   "cell_type": "code",
   "execution_count": 4,
   "metadata": {},
   "outputs": [],
   "source": [
    "btn_instituicoes = widgets.Button(description=\"INSTITUIÇÕES\")\n",
    "btn_campanhas = widgets.Button(description=\"CAMPANHAS\")\n",
    "btn_servicos = widgets.Button(description=\"SERVIÇOS\")\n",
    "btn_enderecos = widgets.Button(description=\"ENDEREÇOS\")\n",
    "btn_consultas = widgets.Button(description=\"CONSULTAS\")\n",
    "btn_menu = widgets.Button(description=\"Menu\")"
   ]
  },
  {
   "cell_type": "markdown",
   "metadata": {},
   "source": [
    "### Componentes Endereço"
   ]
  },
  {
   "cell_type": "code",
   "execution_count": 5,
   "metadata": {},
   "outputs": [],
   "source": [
    "lbl_enderecos = widgets.Label(value=\"Endereços\")\n",
    "btn_insert_enderecos = widgets.Button(description=\"Inserir\")\n",
    "btn_remove_enderecos = widgets.Button(description=\"Remover\")\n",
    "btn_update_enderecos = widgets.Button(description=\"Atualizar\")\n",
    "btn_get_all_enderecos = widgets.Button(description=\"Ver Todos\")\n",
    "\n",
    "txt_bairro_instituicao = widgets.Text(\n",
    "    value='',\n",
    "    placeholder='Digite o Bairro',\n",
    "    description='Bairro: ',\n",
    "    disabled=False\n",
    ")\n",
    "\n",
    "txt_numero_instituicao = widgets.Text(\n",
    "    value='',\n",
    "    placeholder='Digite o endereço',\n",
    "    description='Número: ',\n",
    "    disabled=False\n",
    ")\n",
    "\n",
    "txt_rua_instituicao = widgets.Text(\n",
    "    value='',\n",
    "    placeholder='Digite a rua da instituição',\n",
    "    description='Rua: ',\n",
    "    disabled=False\n",
    ")\n",
    "\n",
    "txt_id_endereco = widgets.BoundedIntText(\n",
    "    placeholder=':Use o ID para updates e deletes',\n",
    "    description='Id: ',\n",
    "    disabled=False,\n",
    "    min=1\n",
    ")"
   ]
  },
  {
   "cell_type": "markdown",
   "metadata": {},
   "source": [
    "### Componentes instituição"
   ]
  },
  {
   "cell_type": "code",
   "execution_count": 6,
   "metadata": {},
   "outputs": [],
   "source": [
    "lbl_instituicao = widgets.Label(value=\"Instituições\")\n",
    "btn_insert_instituicao = widgets.Button(description=\"Inserir\")\n",
    "btn_remove_instituicao = widgets.Button(description=\"Remover\")\n",
    "btn_update_instituicao = widgets.Button(description=\"Atualizar\")\n",
    "btn_get_all_instituicao = widgets.Button(description=\"Ver Todos\")\n",
    "\n",
    "txt_nome_instituicao = widgets.Text(\n",
    "    value='',\n",
    "    placeholder='Digite o nome',\n",
    "    description='Nome: ',\n",
    "    disabled=False\n",
    ")\n",
    "\n",
    "txt_cnpj_instituicao = widgets.Text(\n",
    "    value='',\n",
    "    placeholder='Digite o CNPJ',\n",
    "    description='CNPJ: ',\n",
    "    disabled=False\n",
    ")\n",
    "\n",
    "txt_instituicao_id_endereco = widgets.BoundedIntText(\n",
    "    placeholder=':Use o ID para updates e deletes',\n",
    "    description='Id: ',\n",
    "    disabled=False,\n",
    "    min=1\n",
    ")\n",
    "\n",
    "txt_telefone_instituicao = widgets.Text(\n",
    "    value='',\n",
    "    placeholder='Digite o Telefone',\n",
    "    description='Telefone: ',\n",
    "    disabled=False\n",
    ")"
   ]
  },
  {
   "cell_type": "markdown",
   "metadata": {},
   "source": [
    "### Componentes Serviços"
   ]
  },
  {
   "cell_type": "code",
   "execution_count": 7,
   "metadata": {},
   "outputs": [],
   "source": [
    "lbl_servico = widgets.Label(value=\"Serviços\")\n",
    "btn_insert_servico = widgets.Button(description=\"Inserir\")\n",
    "btn_remove_servico = widgets.Button(description=\"Remover\")\n",
    "btn_update_servico = widgets.Button(description=\"Atualizar\")\n",
    "btn_get_all_servico = widgets.Button(description=\"Ver Todos\")\n",
    "\n",
    "txt_nome_servico = widgets.Text(\n",
    "    value='',\n",
    "    placeholder='Digite o nome',\n",
    "    description='Nome: ',\n",
    "    disabled=False\n",
    ")\n",
    "\n",
    "txt_descricao_servico = widgets.Textarea(\n",
    "    value='',\n",
    "    placeholder='Digite a Descrição',\n",
    "    description='Descrição: ',\n",
    "    disabled=False\n",
    ")\n",
    "\n",
    "txt_preco_servico = widgets.FloatText(\n",
    "    description='Preço: ',\n",
    "    disabled=False,\n",
    "    min=0\n",
    ")\n",
    "\n",
    "txt_cnpj_instituicao_servico = widgets.Text(\n",
    "    value='',\n",
    "    placeholder='Digite o CNJP da instituição',\n",
    "    description='CNPJ Instituição: ',\n",
    "    disabled=False\n",
    ")\n",
    "\n",
    "txt_id_servico = widgets.BoundedIntText(\n",
    "    placeholder=':Use o ID para updates e deletes',\n",
    "    description='Id: ',\n",
    "    disabled=False,\n",
    "    min=1\n",
    ")"
   ]
  },
  {
   "cell_type": "markdown",
   "metadata": {},
   "source": [
    "### Componentes de Campanha"
   ]
  },
  {
   "cell_type": "code",
   "execution_count": 8,
   "metadata": {},
   "outputs": [],
   "source": [
    "lbl_campanha = widgets.Label(value=\"Campanhas\")\n",
    "btn_insert_campanha = widgets.Button(description=\"Inserir\")\n",
    "btn_remove_campanha = widgets.Button(description=\"Remover\")\n",
    "btn_update_campanha = widgets.Button(description=\"Atualizar\")\n",
    "btn_get_all_campanha = widgets.Button(description=\"Ver Todos\")\n",
    "\n",
    "txt_titulo_campanha = widgets.Text(\n",
    "    value='',\n",
    "    placeholder='Digite o nome',\n",
    "    description='Nome: ',\n",
    "    disabled=False\n",
    ")\n",
    "\n",
    "txt_descricao_campanha = widgets.Textarea(\n",
    "    value='',\n",
    "    placeholder='Digite a Descrição',\n",
    "    description='Descrição: ',\n",
    "    disabled=False\n",
    ")\n",
    "\n",
    "txt_id_endereco_campanha = widgets.BoundedIntText(\n",
    "    description='Id Endereço: ',\n",
    "    disabled=False,\n",
    "    min=1\n",
    ")\n",
    "\n",
    "txt_id_campanha = widgets.BoundedIntText(\n",
    "    description='Id: ',\n",
    "    disabled=False,\n",
    "    min=1\n",
    ")\n",
    "\n",
    "txt_cnpj_instituicao_campanha = widgets.Text(\n",
    "    value='',\n",
    "    placeholder='Digite o CNJP da instituição',\n",
    "    description='CNPJ Instituição: ',\n",
    "    disabled=False\n",
    ")"
   ]
  },
  {
   "cell_type": "markdown",
   "metadata": {},
   "source": [
    "### Componentes de Consultas"
   ]
  },
  {
   "cell_type": "code",
   "execution_count": 9,
   "metadata": {},
   "outputs": [],
   "source": [
    "dropdown_query = widgets.Dropdown(\n",
    "    options=[\n",
    "        (\"Quais as instituições de saúde da cidade?\", 0),\n",
    "        (\"Quais os serviços prestados por cada instituição?\", 1),\n",
    "        (\"Quais as campanhas vigentes no momento atual?\", 2),\n",
    "        (\"Quais as instituições que prestam um determinado serviço?\", 3),\n",
    "        (\"Quais médicos prestam atendimento em uma instituição?\", 4),\n",
    "        (\"Quais os horários de atendimento de uma instituição de saúde?\", 5),\n",
    "        (\"Quais os preços dos serviços?\", 6),\n",
    "        (\"Qual o endereço de uma determinada instituição médica?\", 7),\n",
    "        (\"Qual o contato de uma determinada instituição?\", 8),\n",
    "        (\"Quais serão as próximas campanhas realizadas e suas datas?\", 9)\n",
    "    ],\n",
    "    description=\"Consulta: \"\n",
    ")\n",
    "\n",
    "txt_search_bar = widgets.Text(\n",
    "    value='',\n",
    "    placeholder='O termo para pesquisa',\n",
    "    description='Pesquisa: ',\n",
    "    disabled=False\n",
    ")\n",
    "\n",
    "btn_search = widgets.Button(description=\"Buscar\")"
   ]
  },
  {
   "cell_type": "markdown",
   "metadata": {},
   "source": [
    "## CRUDs"
   ]
  },
  {
   "cell_type": "markdown",
   "metadata": {},
   "source": [
    "### CRUD Endereço"
   ]
  },
  {
   "cell_type": "code",
   "execution_count": 10,
   "metadata": {},
   "outputs": [],
   "source": [
    "def get_all_enderecos(b):\n",
    "    select = pd.read_sql(\"SELECT * FROM endereco\", con)\n",
    "    display_enderecos_crud(b)\n",
    "    display(select)\n",
    "\n",
    "def insert_enderecos(b):\n",
    "    try:\n",
    "        cursor = con.cursor()\n",
    "        cursor.execute(\"INSERT INTO endereco(rua, bairro, numero) VALUES (%s, %s, %s)\",\n",
    "                       (txt_rua_instituicao.value, txt_bairro_instituicao.value, txt_numero_instituicao.value))\n",
    "        con.commit()\n",
    "    except:\n",
    "        cursor.execute(\"ROLLBACK\")\n",
    "        clear_all_output()\n",
    "        display_enderecos_crud(b)\n",
    "        display(\"Não foi possível realizar a inserção. Verifique as restrições\")\n",
    "    finally:\n",
    "        cursor.close()\n",
    "\n",
    "def delete_enderecos(b):\n",
    "    try:\n",
    "        cursor =  con.cursor()\n",
    "        cursor.execute(\"DELETE FROM endereco WHERE id = %s\",\n",
    "                       [txt_id_endereco.value])\n",
    "        con.commit()\n",
    "    except:\n",
    "        cursor.execute(\"ROLLBACK\")\n",
    "        clear_all_output()\n",
    "        display_enderecos_crud()\n",
    "        display(\"Não foi possível realizar a deleção. Verifique as restrições\")\n",
    "    finally:\n",
    "        cursor.close()\n",
    "\n",
    "def update_enderecos(b):\n",
    "    try:\n",
    "        cursor =  con.cursor()\n",
    "        cursor.execute(\"UPDATE endereco SET rua = %s, bairro = %s, numero = %s WHERE id = %s\",\n",
    "                       (txt_rua_instituicao.value, txt_bairro_instituicao.value, txt_numero_instituicao.value, txt_id_endereco.value))\n",
    "        con.commit()\n",
    "    except:\n",
    "        cursor.execute(\"ROLLBACK\")\n",
    "        clear_all_output()\n",
    "        display_enderecos_crud(b)\n",
    "        display(\"Não foi possível realizar a atualização. Verifique as restrições\")\n",
    "    finally:\n",
    "        cursor.close()"
   ]
  },
  {
   "cell_type": "markdown",
   "metadata": {},
   "source": [
    "### CRUD Instituição"
   ]
  },
  {
   "cell_type": "code",
   "execution_count": 11,
   "metadata": {},
   "outputs": [],
   "source": [
    "def get_all_instituicao(b):\n",
    "    select = pd.read_sql(\"SELECT * FROM instituicao_saude\", con)\n",
    "    display_instituicoes_crud(b)\n",
    "    display(select)\n",
    "\n",
    "def insert_instituicao(b):\n",
    "    try:\n",
    "        cursor = con.cursor()\n",
    "        cursor.execute(\"INSERT INTO instituicao_saude(cnpj, nome, id_endereco) VALUES (%s, %s, %s)\",\n",
    "                       (txt_cnpj_instituicao.value, txt_nome_instituicao.value, txt_instituicao_id_endereco.value))\n",
    "        con.commit()\n",
    "    except:\n",
    "        cursor.execute(\"ROLLBACK\")\n",
    "        clear_all_output()\n",
    "        display_instituicoes_crud(b)\n",
    "        display(\"Não foi possível realizar a inserção. Verifique as restrições\")\n",
    "    finally:\n",
    "        cursor.close()\n",
    "\n",
    "def delete_instituicao(b):\n",
    "    try:\n",
    "        cursor =  con.cursor()\n",
    "        cursor.execute(\"DELETE FROM instituicao_saude WHERE cnpj = %s\",\n",
    "                       [txt_cnpj_instituicao.value])\n",
    "        con.commit()\n",
    "    except:\n",
    "        cursor.execute(\"ROLLBACK\")\n",
    "        clear_all_output()\n",
    "        display_instituicoes_crud()\n",
    "        display(\"Não foi possível realizar a deleção. Verifique as restrições\")\n",
    "    finally:\n",
    "        cursor.close()\n",
    "\n",
    "def update_instituicao(b):\n",
    "    try:\n",
    "        cursor =  con.cursor()\n",
    "        cursor.execute(\"UPDATE instituicao_saude SET nome = %s, id_endereco = %s WHERE cnpj = %s\",\n",
    "                       (txt_nome_instituicao.value, txt_instituicao_id_endereco.value, txt_cnpj_instituicao.value))\n",
    "        con.commit()\n",
    "    except:\n",
    "        cursor.execute(\"ROLLBACK\")\n",
    "        clear_all_output()\n",
    "        display_instituicoes_crud(b)\n",
    "        display(\"Não foi possível realizar a atualização. Verifique as restrições\")\n",
    "    finally:\n",
    "        cursor.close()"
   ]
  },
  {
   "cell_type": "markdown",
   "metadata": {},
   "source": [
    "### CRUD Serviço"
   ]
  },
  {
   "cell_type": "code",
   "execution_count": 12,
   "metadata": {},
   "outputs": [],
   "source": [
    "def get_all_servico(b):\n",
    "    select = pd.read_sql(\"SELECT * FROM servico\", con)\n",
    "    display_servicos_crud(b)\n",
    "    display(select)\n",
    "\n",
    "def insert_servico(b):\n",
    "    try:\n",
    "        cursor = con.cursor()\n",
    "        cursor.execute(\"INSERT INTO servico(nome, descricao, preco, cnpj_instituicao_saude) VALUES (%s, %s, %s, %s)\",\n",
    "                       (txt_nome_servico.value, txt_descricao_servico.value, txt_preco_servico.value, txt_cnpj_instituicao_servico.value))\n",
    "        con.commit()\n",
    "    except:\n",
    "        cursor.execute(\"ROLLBACK\")\n",
    "        clear_all_output()\n",
    "        display_servicos_crud(b)\n",
    "        display(\"Não foi possível realizar a inserção. Verifique as restrições\")\n",
    "    finally:\n",
    "        cursor.close()\n",
    "\n",
    "def delete_servico(b):\n",
    "    try:\n",
    "        cursor =  con.cursor()\n",
    "        cursor.execute(\"DELETE FROM servico WHERE id = %s\",\n",
    "                       [txt_id_servico.value])\n",
    "        con.commit()\n",
    "    except:\n",
    "        cursor.execute(\"ROLLBACK\")\n",
    "        clear_all_output()\n",
    "        display_servicos_crud(b)\n",
    "        display(\"Não foi possível realizar a deleção. Verifique as restrições\")\n",
    "    finally:\n",
    "        cursor.close()\n",
    "\n",
    "def update_servico(b):\n",
    "    try:\n",
    "        cursor =  con.cursor()\n",
    "        cursor.execute(\"UPDATE servico SET nome = %s, descricao = %s, preco = %s WHERE id = %s\",\n",
    "                       (txt_nome_servico.value, txt_descricao_servico.value, txt_preco_servico.value, txt_id_servico.value))\n",
    "        con.commit()\n",
    "    except:\n",
    "        cursor.execute(\"ROLLBACK\")\n",
    "        clear_all_output()\n",
    "        display_servicos_crud(b)\n",
    "        display(\"Não foi possível realizar a atualização. Verifique as restrições\")\n",
    "    finally:\n",
    "        cursor.close()"
   ]
  },
  {
   "cell_type": "markdown",
   "metadata": {},
   "source": [
    "### CRUD Campanha"
   ]
  },
  {
   "cell_type": "code",
   "execution_count": 13,
   "metadata": {},
   "outputs": [],
   "source": [
    "def get_all_campanha(b):\n",
    "    select = pd.read_sql(\"SELECT * FROM campanha\", con)\n",
    "    display_campanha_crud(b)\n",
    "    display(select)\n",
    "\n",
    "def insert_campanha(b):\n",
    "    try:\n",
    "        cursor = con.cursor()\n",
    "        cursor.execute(\"INSERT INTO campanha(titulo, descricao, id_endereco, cnpj_instituicao) VALUES (%s, %s, %s, %s)\",\n",
    "                       (txt_titulo_campanha.value, txt_descricao_campanha.value, txt_id_endereco_campanha.value, txt_cnpj_instituicao_campanha.value))\n",
    "        con.commit()\n",
    "    except:\n",
    "        cursor.execute(\"ROLLBACK\")\n",
    "        clear_all_output()\n",
    "        display_campanha_crud(b)\n",
    "        display(\"Não foi possível realizar a inserção. Verifique as restrições\")\n",
    "    finally:\n",
    "        cursor.close()\n",
    "\n",
    "def delete_campanha(b):\n",
    "    try:\n",
    "        cursor =  con.cursor()\n",
    "        cursor.execute(\"DELETE FROM campanha WHERE id = %s\",\n",
    "                       [txt_id_campanha.value])\n",
    "        con.commit()\n",
    "    except:\n",
    "        cursor.execute(\"ROLLBACK\")\n",
    "        clear_all_output()\n",
    "        display_campanha_crud(b)\n",
    "        display(\"Não foi possível realizar a deleção. Verifique as restrições\")\n",
    "    finally:\n",
    "        cursor.close()\n",
    "\n",
    "def update_campanha(b):\n",
    "    try:\n",
    "        cursor =  con.cursor()\n",
    "        cursor.execute(\"UPDATE campanha SET titulo = %s, descricao = %s WHERE id = %s\",\n",
    "                       (txt_titulo_campanha.value, txt_descricao_campanha.value, txt_id_campanha.value))\n",
    "        con.commit()\n",
    "    except:\n",
    "        cursor.execute(\"ROLLBACK\")\n",
    "        clear_all_output()\n",
    "        display_campanha_crud()\n",
    "        display(\"Não foi possível realizar a atualização. Verifique as restrições\")\n",
    "    finally:\n",
    "        cursor.close()"
   ]
  },
  {
   "cell_type": "markdown",
   "metadata": {},
   "source": [
    "## Consultas"
   ]
  },
  {
   "cell_type": "code",
   "execution_count": 14,
   "metadata": {},
   "outputs": [],
   "source": [
    "def query_instituicoes_cidade(b):\n",
    "    select = pd.read_sql(\"SELECT nome FROM instituicao_saude\", con)\n",
    "    display_consultas(b)\n",
    "    display(select)\n",
    "\n",
    "def query_servicos_por_instituicao(b):\n",
    "    select = pd.read_sql(\"SELECT instituicao_saude.nome, servico.nome, servico.descricao, servico.preco FROM instituicao_saude JOIN servico ON instituicao_saude.cnpj = servico.cnpj_instituicao_saude\", con)\n",
    "    display_consultas(b)\n",
    "    display(select)\n",
    "\n",
    "def query_campanhas_data(b):\n",
    "    d1 = \"'\" + date.today().strftime(\"%Y/%m/%d\") + \"'\"\n",
    "    query = \"SELECT * FROM campanha WHERE data_final > \" + d1\n",
    "    select = pd.read_sql(query, con)\n",
    "    display_consultas(b)\n",
    "    display(select)\n",
    "\n",
    "def query_instituicoes_servico(b):\n",
    "    query = \"SELECT instituicao_saude.nome, servico.nome, servico.descricao, servico.preco FROM instituicao_saude JOIN servico ON instituicao_saude.cnpj = servico.cnpj_instituicao_saude WHERE UPPER(servico.nome) LIKE UPPER('%\" + txt_search_bar.value + \"%')\"\n",
    "\n",
    "    select = pd.read_sql(query, con)\n",
    "    display_consultas(b)\n",
    "    display_buscar_servico(b)\n",
    "    display(select)"
   ]
  },
  {
   "cell_type": "markdown",
   "metadata": {},
   "source": [
    "## Displays"
   ]
  },
  {
   "cell_type": "markdown",
   "metadata": {},
   "source": [
    "### Displays Gerais"
   ]
  },
  {
   "cell_type": "code",
   "execution_count": 15,
   "metadata": {},
   "outputs": [],
   "source": [
    "def clear_all_output():\n",
    "    for i in range(10):\n",
    "        clear_output(wait=True)\n",
    "\n",
    "def display_menu(b):\n",
    "    clear_all_output()\n",
    "    display(btn_instituicoes, btn_campanhas, btn_servicos, btn_enderecos, btn_consultas)"
   ]
  },
  {
   "cell_type": "markdown",
   "metadata": {},
   "source": [
    "### Display Instituições"
   ]
  },
  {
   "cell_type": "code",
   "execution_count": 16,
   "metadata": {},
   "outputs": [],
   "source": [
    "def display_instituicoes_crud(b):\n",
    "    clear_all_output()\n",
    "    display(lbl_instituicao)\n",
    "    display(txt_nome_instituicao, txt_cnpj_instituicao, txt_telefone_instituicao, txt_instituicao_id_endereco)\n",
    "    display(btn_insert_instituicao, btn_remove_instituicao, btn_update_instituicao, btn_get_all_instituicao, btn_menu)"
   ]
  },
  {
   "cell_type": "markdown",
   "metadata": {},
   "source": [
    "### Display Endereços"
   ]
  },
  {
   "cell_type": "code",
   "execution_count": 17,
   "metadata": {},
   "outputs": [],
   "source": [
    "def display_enderecos_crud(b):\n",
    "    clear_all_output()\n",
    "    display(lbl_enderecos)\n",
    "    display(txt_bairro_instituicao, txt_id_endereco, txt_rua_instituicao, txt_numero_instituicao)\n",
    "    display(btn_insert_enderecos, btn_remove_enderecos, btn_update_enderecos, btn_get_all_enderecos, btn_menu)"
   ]
  },
  {
   "cell_type": "markdown",
   "metadata": {},
   "source": [
    "### Display Serviço"
   ]
  },
  {
   "cell_type": "code",
   "execution_count": 18,
   "metadata": {},
   "outputs": [],
   "source": [
    "def display_servicos_crud(b):\n",
    "    clear_all_output()\n",
    "    display(lbl_servico)\n",
    "    display(txt_nome_servico, txt_id_servico, txt_preco_servico, txt_descricao_servico, txt_cnpj_instituicao_servico)\n",
    "    display(btn_insert_servico, btn_remove_servico, btn_update_servico, btn_get_all_servico, btn_menu)"
   ]
  },
  {
   "cell_type": "markdown",
   "metadata": {},
   "source": [
    "### Display Campanha"
   ]
  },
  {
   "cell_type": "code",
   "execution_count": 19,
   "metadata": {},
   "outputs": [],
   "source": [
    "def display_campanha_crud(b):\n",
    "    clear_all_output()\n",
    "    display(lbl_campanha)\n",
    "    display(txt_titulo_campanha, txt_descricao_campanha, txt_id_campanha, txt_id_endereco_campanha, txt_cnpj_instituicao_campanha)\n",
    "    display(btn_insert_campanha, btn_remove_campanha, btn_update_campanha, btn_get_all_campanha, btn_menu)"
   ]
  },
  {
   "cell_type": "markdown",
   "metadata": {},
   "source": [
    "### Display Consultas"
   ]
  },
  {
   "cell_type": "code",
   "execution_count": 20,
   "metadata": {},
   "outputs": [],
   "source": [
    "def display_consultas(b):\n",
    "    clear_all_output()\n",
    "    display(dropdown_query)\n",
    "\n",
    "def mudar_consulta(b):\n",
    "    value_consulta = dropdown_query.value\n",
    "    if value_consulta == 0:\n",
    "        query_instituicoes_cidade(b)\n",
    "    elif value_consulta == 1:\n",
    "        query_servicos_por_instituicao(b)\n",
    "    elif value_consulta == 2:\n",
    "        query_campanhas_data(b)\n",
    "    elif value_consulta == 3:\n",
    "        display_buscar_servico(b)\n",
    "    elif value_consulta == 4: display()\n",
    "    elif value_consulta == 5: display()\n",
    "    elif value_consulta == 6: display()\n",
    "    elif value_consulta == 7: display()\n",
    "    elif value_consulta == 8: display()\n",
    "    elif value_consulta == 9: display()\n",
    "\n",
    "def display_buscar_servico(b):\n",
    "    clear_all_output()\n",
    "    display(dropdown_query)\n",
    "    display(txt_search_bar, btn_search)"
   ]
  },
  {
   "cell_type": "markdown",
   "metadata": {},
   "source": [
    "## Eventos"
   ]
  },
  {
   "cell_type": "markdown",
   "metadata": {},
   "source": [
    "### Eventos gerais"
   ]
  },
  {
   "cell_type": "code",
   "execution_count": 21,
   "metadata": {},
   "outputs": [],
   "source": [
    "btn_menu.on_click(display_menu)\n",
    "btn_instituicoes.on_click(display_instituicoes_crud)\n",
    "btn_enderecos.on_click(display_enderecos_crud)\n",
    "btn_servicos.on_click(display_servicos_crud)\n",
    "btn_campanhas.on_click(display_campanha_crud)\n",
    "btn_consultas.on_click(display_consultas)"
   ]
  },
  {
   "cell_type": "markdown",
   "metadata": {},
   "source": [
    "### Eventos de endereço"
   ]
  },
  {
   "cell_type": "code",
   "execution_count": 22,
   "metadata": {},
   "outputs": [],
   "source": [
    "btn_insert_enderecos.on_click(insert_enderecos)\n",
    "btn_get_all_enderecos.on_click(get_all_enderecos)\n",
    "btn_remove_enderecos.on_click(delete_enderecos)\n",
    "btn_update_enderecos.on_click(update_enderecos)"
   ]
  },
  {
   "cell_type": "markdown",
   "metadata": {},
   "source": [
    "### Eventos de instituição"
   ]
  },
  {
   "cell_type": "code",
   "execution_count": 23,
   "metadata": {},
   "outputs": [],
   "source": [
    "btn_get_all_instituicao.on_click(get_all_instituicao)\n",
    "btn_insert_instituicao.on_click(insert_instituicao)\n",
    "btn_remove_instituicao.on_click(delete_instituicao)\n",
    "btn_update_instituicao.on_click(update_instituicao)"
   ]
  },
  {
   "cell_type": "markdown",
   "metadata": {},
   "source": [
    "### Eventos de Servicos"
   ]
  },
  {
   "cell_type": "code",
   "execution_count": 24,
   "metadata": {},
   "outputs": [],
   "source": [
    "btn_get_all_servico.on_click(get_all_servico)\n",
    "btn_insert_servico.on_click(insert_servico)\n",
    "btn_remove_servico.on_click(delete_servico)\n",
    "btn_update_servico.on_click(update_servico)"
   ]
  },
  {
   "cell_type": "markdown",
   "metadata": {},
   "source": [
    "### Eventos de Campanhas"
   ]
  },
  {
   "cell_type": "code",
   "execution_count": 25,
   "metadata": {},
   "outputs": [],
   "source": [
    "btn_get_all_campanha.on_click(get_all_campanha)\n",
    "btn_insert_campanha.on_click(insert_campanha)\n",
    "btn_remove_campanha.on_click(delete_campanha)\n",
    "btn_update_campanha.on_click(update_campanha)"
   ]
  },
  {
   "cell_type": "markdown",
   "metadata": {},
   "source": [
    "### Eventos de consultas"
   ]
  },
  {
   "cell_type": "code",
   "execution_count": 26,
   "metadata": {},
   "outputs": [
    {
     "name": "stderr",
     "output_type": "stream",
     "text": [
      "C:\\Users\\victor.vieira\\AppData\\Local\\Temp\\ipykernel_22464\\2734095039.py:1: DeprecationWarning: on_trait_change is deprecated in traitlets 4.1: use observe instead\n",
      "  dropdown_query.on_trait_change(mudar_consulta)\n"
     ]
    }
   ],
   "source": [
    "dropdown_query.on_trait_change(mudar_consulta)\n",
    "btn_search.on_click(query_instituicoes_servico)"
   ]
  },
  {
   "cell_type": "markdown",
   "metadata": {},
   "source": [
    "## Main"
   ]
  },
  {
   "cell_type": "code",
   "execution_count": 27,
   "metadata": {},
   "outputs": [
    {
     "ename": "TypeError",
     "evalue": "display_enderecos_crud() missing 1 required positional argument: 'b'",
     "output_type": "error",
     "traceback": [
      "\u001B[1;31m---------------------------------------------------------------------------\u001B[0m",
      "\u001B[1;31mForeignKeyViolation\u001B[0m                       Traceback (most recent call last)",
      "\u001B[1;32m~\\AppData\\Local\\Temp\\ipykernel_22464\\2386201347.py\u001B[0m in \u001B[0;36mdelete_enderecos\u001B[1;34m(b)\u001B[0m\n\u001B[0;32m     22\u001B[0m         \u001B[0mcursor\u001B[0m \u001B[1;33m=\u001B[0m  \u001B[0mcon\u001B[0m\u001B[1;33m.\u001B[0m\u001B[0mcursor\u001B[0m\u001B[1;33m(\u001B[0m\u001B[1;33m)\u001B[0m\u001B[1;33m\u001B[0m\u001B[1;33m\u001B[0m\u001B[0m\n\u001B[1;32m---> 23\u001B[1;33m         cursor.execute(\"DELETE FROM endereco WHERE id = %s\",\n\u001B[0m\u001B[0;32m     24\u001B[0m                        [txt_id_endereco.value])\n",
      "\u001B[1;31mForeignKeyViolation\u001B[0m: update or delete on table \"endereco\" violates foreign key constraint \"instituicao_saude_id_endereco_fkey\" on table \"instituicao_saude\"\nDETAIL:  Key (id)=(9) is still referenced from table \"instituicao_saude\".\n",
      "\nDuring handling of the above exception, another exception occurred:\n",
      "\u001B[1;31mTypeError\u001B[0m                                 Traceback (most recent call last)",
      "\u001B[1;32m~\\AppData\\Local\\Temp\\ipykernel_22464\\2386201347.py\u001B[0m in \u001B[0;36mdelete_enderecos\u001B[1;34m(b)\u001B[0m\n\u001B[0;32m     27\u001B[0m         \u001B[0mcursor\u001B[0m\u001B[1;33m.\u001B[0m\u001B[0mexecute\u001B[0m\u001B[1;33m(\u001B[0m\u001B[1;34m\"ROLLBACK\"\u001B[0m\u001B[1;33m)\u001B[0m\u001B[1;33m\u001B[0m\u001B[1;33m\u001B[0m\u001B[0m\n\u001B[0;32m     28\u001B[0m         \u001B[0mclear_all_output\u001B[0m\u001B[1;33m(\u001B[0m\u001B[1;33m)\u001B[0m\u001B[1;33m\u001B[0m\u001B[1;33m\u001B[0m\u001B[0m\n\u001B[1;32m---> 29\u001B[1;33m         \u001B[0mdisplay_enderecos_crud\u001B[0m\u001B[1;33m(\u001B[0m\u001B[1;33m)\u001B[0m\u001B[1;33m\u001B[0m\u001B[1;33m\u001B[0m\u001B[0m\n\u001B[0m\u001B[0;32m     30\u001B[0m         \u001B[0mdisplay\u001B[0m\u001B[1;33m(\u001B[0m\u001B[1;34m\"Não foi possível realizar a deleção. Verifique as restrições\"\u001B[0m\u001B[1;33m)\u001B[0m\u001B[1;33m\u001B[0m\u001B[1;33m\u001B[0m\u001B[0m\n\u001B[0;32m     31\u001B[0m     \u001B[1;32mfinally\u001B[0m\u001B[1;33m:\u001B[0m\u001B[1;33m\u001B[0m\u001B[1;33m\u001B[0m\u001B[0m\n",
      "\u001B[1;31mTypeError\u001B[0m: display_enderecos_crud() missing 1 required positional argument: 'b'"
     ]
    }
   ],
   "source": [
    "clear_all_output()\n",
    "display(btn_instituicoes, btn_campanhas, btn_servicos, btn_enderecos, btn_consultas)"
   ]
  },
  {
   "cell_type": "code",
   "execution_count": null,
   "metadata": {},
   "outputs": [],
   "source": []
  }
 ],
 "metadata": {
  "kernelspec": {
   "display_name": "Python 3 (ipykernel)",
   "language": "python",
   "name": "python3"
  },
  "language_info": {
   "codemirror_mode": {
    "name": "ipython",
    "version": 3
   },
   "file_extension": ".py",
   "mimetype": "text/x-python",
   "name": "python",
   "nbconvert_exporter": "python",
   "pygments_lexer": "ipython3",
   "version": "3.9.13"
  }
 },
 "nbformat": 4,
 "nbformat_minor": 1
}
