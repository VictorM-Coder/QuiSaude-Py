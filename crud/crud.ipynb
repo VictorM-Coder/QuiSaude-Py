{
 "cells": [
  {
   "cell_type": "code",
   "execution_count": 1,
   "metadata": {},
   "outputs": [],
   "source": [
    "# QuiSaúde"
   ]
  },
  {
   "cell_type": "markdown",
   "metadata": {},
   "source": [
    "## Imports"
   ]
  },
  {
   "cell_type": "code",
   "execution_count": 2,
   "metadata": {
    "pycharm": {
     "is_executing": true
    }
   },
   "outputs": [],
   "source": [
    "import ipywidgets as widgets\n",
    "from IPython.display import display\n",
    "from ipywidgets import interact\n",
    "import pandas as pd\n",
    "import psycopg2 as pg\n",
    "import sqlalchemy\n",
    "from datetime import date\n",
    "from sqlalchemy import create_engine\n",
    "from IPython.display import clear_output"
   ]
  },
  {
   "cell_type": "markdown",
   "metadata": {},
   "source": [
    "## Conexão"
   ]
  },
  {
   "cell_type": "code",
   "execution_count": 3,
   "metadata": {
    "pycharm": {
     "is_executing": true
    }
   },
   "outputs": [],
   "source": [
    "con = pg.connect(host='localhost', dbname= 'quisaude', user='postgres', password= '12345')"
   ]
  },
  {
   "cell_type": "markdown",
   "metadata": {},
   "source": [
    "## Componentes"
   ]
  },
  {
   "cell_type": "markdown",
   "metadata": {},
   "source": [
    "### Componentes Gerais"
   ]
  },
  {
   "cell_type": "code",
   "execution_count": 4,
   "metadata": {
    "pycharm": {
     "is_executing": true
    }
   },
   "outputs": [],
   "source": [
    "btn_instituicoes = widgets.Button(description=\"INSTITUIÇÕES\")\n",
    "btn_campanhas = widgets.Button(description=\"CAMPANHAS\")\n",
    "btn_servicos = widgets.Button(description=\"SERVIÇOS\")\n",
    "btn_enderecos = widgets.Button(description=\"ENDEREÇOS\")\n",
    "btn_consultas = widgets.Button(description=\"CONSULTAS\")\n",
    "btn_menu = widgets.Button(description=\"Menu\")"
   ]
  },
  {
   "cell_type": "markdown",
   "metadata": {},
   "source": [
    "### Componentes Endereço"
   ]
  },
  {
   "cell_type": "code",
   "execution_count": 5,
   "metadata": {
    "pycharm": {
     "is_executing": true
    }
   },
   "outputs": [],
   "source": [
    "lbl_enderecos = widgets.Label(value=\"Endereços\")\n",
    "btn_insert_enderecos = widgets.Button(description=\"Inserir\")\n",
    "btn_remove_enderecos = widgets.Button(description=\"Remover\")\n",
    "btn_update_enderecos = widgets.Button(description=\"Atualizar\")\n",
    "btn_get_all_enderecos = widgets.Button(description=\"Ver Todos\")\n",
    "\n",
    "txt_bairro_instituicao = widgets.Text(\n",
    "    value='',\n",
    "    placeholder='Digite o Bairro',\n",
    "    description='Bairro: ',\n",
    "    disabled=False\n",
    ")\n",
    "\n",
    "txt_numero_instituicao = widgets.Text(\n",
    "    value='',\n",
    "    placeholder='Digite o endereço',\n",
    "    description='Número: ',\n",
    "    disabled=False\n",
    ")\n",
    "\n",
    "txt_rua_instituicao = widgets.Text(\n",
    "    value='',\n",
    "    placeholder='Digite a rua da instituição',\n",
    "    description='Rua: ',\n",
    "    disabled=False\n",
    ")\n",
    "\n",
    "txt_id_endereco = widgets.BoundedIntText(\n",
    "    placeholder=':Use o ID para updates e deletes',\n",
    "    description='Id: ',\n",
    "    disabled=False,\n",
    "    min=1\n",
    ")"
   ]
  },
  {
   "cell_type": "markdown",
   "metadata": {},
   "source": [
    "### Componentes instituição"
   ]
  },
  {
   "cell_type": "code",
   "execution_count": 6,
   "metadata": {
    "pycharm": {
     "is_executing": true
    }
   },
   "outputs": [],
   "source": [
    "lbl_instituicao = widgets.Label(value=\"Instituições\")\n",
    "btn_insert_instituicao = widgets.Button(description=\"Inserir\")\n",
    "btn_remove_instituicao = widgets.Button(description=\"Remover\")\n",
    "btn_update_instituicao = widgets.Button(description=\"Atualizar\")\n",
    "btn_get_all_instituicao = widgets.Button(description=\"Ver Todos\")\n",
    "\n",
    "txt_nome_instituicao = widgets.Text(\n",
    "    value='',\n",
    "    placeholder='Digite o nome',\n",
    "    description='Nome: ',\n",
    "    disabled=False\n",
    ")\n",
    "\n",
    "txt_cnpj_instituicao = widgets.Text(\n",
    "    value='',\n",
    "    placeholder='Digite o CNPJ',\n",
    "    description='CNPJ: ',\n",
    "    disabled=False\n",
    ")\n",
    "\n",
    "txt_instituicao_id_endereco = widgets.BoundedIntText(\n",
    "    placeholder=':Use o ID para updates e deletes',\n",
    "    description='Id endereço: ',\n",
    "    disabled=False,\n",
    "    min=1\n",
    ")"
   ]
  },
  {
   "cell_type": "markdown",
   "metadata": {},
   "source": [
    "### Componentes Serviços"
   ]
  },
  {
   "cell_type": "code",
   "execution_count": 7,
   "metadata": {
    "pycharm": {
     "is_executing": true
    }
   },
   "outputs": [],
   "source": [
    "lbl_servico = widgets.Label(value=\"Serviços\")\n",
    "btn_insert_servico = widgets.Button(description=\"Inserir\")\n",
    "btn_remove_servico = widgets.Button(description=\"Remover\")\n",
    "btn_update_servico = widgets.Button(description=\"Atualizar\")\n",
    "btn_get_all_servico = widgets.Button(description=\"Ver Todos\")\n",
    "\n",
    "txt_nome_servico = widgets.Text(\n",
    "    value='',\n",
    "    placeholder='Digite o nome',\n",
    "    description='Nome: ',\n",
    "    disabled=False\n",
    ")\n",
    "\n",
    "txt_descricao_servico = widgets.Textarea(\n",
    "    value='',\n",
    "    placeholder='Digite a Descrição',\n",
    "    description='Descrição: ',\n",
    "    disabled=False\n",
    ")\n",
    "\n",
    "txt_preco_servico = widgets.FloatText(\n",
    "    description='Preço: ',\n",
    "    disabled=False,\n",
    "    min=0\n",
    ")\n",
    "\n",
    "txt_cnpj_instituicao_servico = widgets.Text(\n",
    "    value='',\n",
    "    placeholder='Digite o CNJP da instituição',\n",
    "    description='CNPJ Instituição: ',\n",
    "    disabled=False\n",
    ")\n",
    "\n",
    "txt_id_servico = widgets.BoundedIntText(\n",
    "    placeholder=':Use o ID para updates e deletes',\n",
    "    description='Id: ',\n",
    "    disabled=False,\n",
    "    min=1\n",
    ")"
   ]
  },
  {
   "cell_type": "markdown",
   "metadata": {},
   "source": [
    "### Componentes de Campanha"
   ]
  },
  {
   "cell_type": "code",
   "execution_count": 8,
   "metadata": {
    "pycharm": {
     "is_executing": true
    }
   },
   "outputs": [],
   "source": [
    "lbl_campanha = widgets.Label(value=\"Campanhas\")\n",
    "btn_insert_campanha = widgets.Button(description=\"Inserir\")\n",
    "btn_remove_campanha = widgets.Button(description=\"Remover\")\n",
    "btn_update_campanha = widgets.Button(description=\"Atualizar\")\n",
    "btn_get_all_campanha = widgets.Button(description=\"Ver Todos\")\n",
    "\n",
    "txt_titulo_campanha = widgets.Text(\n",
    "    value='',\n",
    "    placeholder='Digite o nome',\n",
    "    description='Nome: ',\n",
    "    disabled=False\n",
    ")\n",
    "\n",
    "txt_descricao_campanha = widgets.Textarea(\n",
    "    value='',\n",
    "    placeholder='Digite a Descrição',\n",
    "    description='Descrição: ',\n",
    "    disabled=False\n",
    ")\n",
    "\n",
    "txt_id_endereco_campanha = widgets.BoundedIntText(\n",
    "    description='Id Endereço: ',\n",
    "    disabled=False,\n",
    "    min=1\n",
    ")\n",
    "\n",
    "txt_id_campanha = widgets.BoundedIntText(\n",
    "    description='Id: ',\n",
    "    disabled=False,\n",
    "    min=1\n",
    ")\n",
    "\n",
    "txt_cnpj_instituicao_campanha = widgets.Text(\n",
    "    value='',\n",
    "    placeholder='Digite o CNJP da instituição',\n",
    "    description='CNPJ Instituição: ',\n",
    "    disabled=False\n",
    ")\n",
    "\n",
    "data_inicio_campanha = widgets.DatePicker(\n",
    "    description=\"Data de início: \",\n",
    "    disabled=False\n",
    ")\n",
    "\n",
    "data_final_campanha = widgets.DatePicker(\n",
    "    description=\"Data de término: \",\n",
    "    disabled=False\n",
    ")"
   ]
  },
  {
   "cell_type": "markdown",
   "metadata": {},
   "source": [
    "### Componentes de Consultas"
   ]
  },
  {
   "cell_type": "code",
   "execution_count": 9,
   "metadata": {
    "pycharm": {
     "is_executing": true
    }
   },
   "outputs": [],
   "source": [
    "dropdown_query = widgets.Dropdown(\n",
    "    options=[\n",
    "        (\"Quais as instituições de saúde da cidade?\", 0),\n",
    "        (\"Quais os serviços prestados por cada instituição?\", 1),\n",
    "        (\"Quais as campanhas vigentes no momento atual?\", 2),\n",
    "        (\"Quais as instituições que prestam um determinado serviço?\", 3),\n",
    "        (\"Quais médicos prestam atendimento em uma instituição?\", 4),\n",
    "        (\"Quais os horários de atendimento de uma instituição de saúde?\", 5),\n",
    "        (\"Quantas campanhas cada instuição tem?\", 6),\n",
    "        (\"Qual o endereço de uma determinada instituição médica?\", 7),\n",
    "        (\"Qual o contato de uma determinada instituição?\", 8),\n",
    "        (\"Quais serão as próximas campanhas realizadas e suas datas?\", 9)\n",
    "    ],\n",
    "    description=\"Consulta: \",\n",
    "    layout={'width': 'max-content'},\n",
    ")\n",
    "\n",
    "txt_search_bar = widgets.Text(\n",
    "    value='',\n",
    "    placeholder='O termo para pesquisa',\n",
    "    description='Pesquisa: ',\n",
    "    disabled=False\n",
    ")\n",
    "\n",
    "btn_search = widgets.Button(description=\"Buscar\")\n",
    "btn_search_medicos_instituicao = widgets.Button(description=\"Buscar\")\n",
    "btn_search_horarios_instituicao = widgets.Button(description=\"Buscar\")\n",
    "btn_search_contatos_instituicao = widgets.Button(description=\"Buscar\")\n",
    "btn_search_enderecos_instituicao = widgets.Button(description=\"Buscar\")"
   ]
  },
  {
   "cell_type": "markdown",
   "metadata": {},
   "source": [
    "## CRUDs"
   ]
  },
  {
   "cell_type": "markdown",
   "metadata": {},
   "source": [
    "### CRUD Endereço"
   ]
  },
  {
   "cell_type": "code",
   "execution_count": 10,
   "metadata": {
    "pycharm": {
     "is_executing": true
    }
   },
   "outputs": [],
   "source": [
    "def get_all_enderecos(b):\n",
    "    select = pd.read_sql(\"SELECT * FROM endereco\", con)\n",
    "    display_enderecos_crud(b)\n",
    "    display(select)\n",
    "\n",
    "def insert_enderecos(b):\n",
    "    try:\n",
    "        cursor = con.cursor()\n",
    "        cursor.execute(\"INSERT INTO endereco(rua, bairro, numero) VALUES (%s, %s, %s)\",\n",
    "                       (txt_rua_instituicao.value, txt_bairro_instituicao.value, txt_numero_instituicao.value))\n",
    "        con.commit()\n",
    "    except:\n",
    "        cursor.execute(\"ROLLBACK\")\n",
    "        clear_all_output()\n",
    "        display_enderecos_crud(b)\n",
    "        display(\"Não foi possível realizar a inserção. Verifique as restrições\")\n",
    "    finally:\n",
    "        cursor.close()\n",
    "\n",
    "def delete_enderecos(b):\n",
    "    try:\n",
    "        cursor =  con.cursor()\n",
    "        cursor.execute(\"DELETE FROM endereco WHERE id = %s\",\n",
    "                       [txt_id_endereco.value])\n",
    "        con.commit()\n",
    "    except:\n",
    "        cursor.execute(\"ROLLBACK\")\n",
    "        clear_all_output()\n",
    "        display_enderecos_crud()\n",
    "        display(\"Não foi possível realizar a deleção. Verifique as restrições\")\n",
    "    finally:\n",
    "        cursor.close()\n",
    "\n",
    "def update_enderecos(b):\n",
    "    try:\n",
    "        cursor =  con.cursor()\n",
    "        cursor.execute(\"UPDATE endereco SET rua = %s, bairro = %s, numero = %s WHERE id = %s\",\n",
    "                       (txt_rua_instituicao.value, txt_bairro_instituicao.value, txt_numero_instituicao.value, txt_id_endereco.value))\n",
    "        con.commit()\n",
    "    except:\n",
    "        cursor.execute(\"ROLLBACK\")\n",
    "        clear_all_output()\n",
    "        display_enderecos_crud(b)\n",
    "        display(\"Não foi possível realizar a atualização. Verifique as restrições\")\n",
    "    finally:\n",
    "        cursor.close()"
   ]
  },
  {
   "cell_type": "markdown",
   "metadata": {},
   "source": [
    "### CRUD Instituição"
   ]
  },
  {
   "cell_type": "code",
   "execution_count": 11,
   "metadata": {
    "pycharm": {
     "is_executing": true
    }
   },
   "outputs": [],
   "source": [
    "def get_all_instituicao(b):\n",
    "    select = pd.read_sql(\"SELECT * FROM instituicao_saude\", con)\n",
    "    display_instituicoes_crud(b)\n",
    "    display(select)\n",
    "\n",
    "def insert_instituicao(b):\n",
    "    try:\n",
    "        cursor = con.cursor()\n",
    "        cursor.execute(\"INSERT INTO instituicao_saude(cnpj, nome, id_endereco) VALUES (%s, %s, %s)\",\n",
    "                       (txt_cnpj_instituicao.value, txt_nome_instituicao.value, txt_instituicao_id_endereco.value))\n",
    "        con.commit()\n",
    "    except:\n",
    "        cursor.execute(\"ROLLBACK\")\n",
    "        clear_all_output()\n",
    "        display_instituicoes_crud(b)\n",
    "        display(\"Não foi possível realizar a inserção. Verifique as restrições\")\n",
    "    finally:\n",
    "        cursor.close()\n",
    "\n",
    "def delete_instituicao(b):\n",
    "    try:\n",
    "        cursor =  con.cursor()\n",
    "        cursor.execute(\"DELETE FROM instituicao_saude WHERE cnpj = %s\",\n",
    "                       [txt_cnpj_instituicao.value])\n",
    "        con.commit()\n",
    "    except:\n",
    "        cursor.execute(\"ROLLBACK\")\n",
    "        clear_all_output()\n",
    "        display_instituicoes_crud()\n",
    "        display(\"Não foi possível realizar a deleção. Verifique as restrições\")\n",
    "    finally:\n",
    "        cursor.close()\n",
    "\n",
    "def update_instituicao(b):\n",
    "    try:\n",
    "        cursor =  con.cursor()\n",
    "        cursor.execute(\"UPDATE instituicao_saude SET nome = %s, id_endereco = %s WHERE cnpj = %s\",\n",
    "                       (txt_nome_instituicao.value, txt_instituicao_id_endereco.value, txt_cnpj_instituicao.value))\n",
    "        con.commit()\n",
    "    except:\n",
    "        cursor.execute(\"ROLLBACK\")\n",
    "        clear_all_output()\n",
    "        display_instituicoes_crud(b)\n",
    "        display(\"Não foi possível realizar a atualização. Verifique as restrições\")\n",
    "    finally:\n",
    "        cursor.close()"
   ]
  },
  {
   "cell_type": "markdown",
   "metadata": {},
   "source": [
    "### CRUD Serviço"
   ]
  },
  {
   "cell_type": "code",
   "execution_count": 12,
   "metadata": {
    "pycharm": {
     "is_executing": true
    }
   },
   "outputs": [],
   "source": [
    "def get_all_servico(b):\n",
    "    select = pd.read_sql(\"SELECT * FROM servico\", con)\n",
    "    display_servicos_crud(b)\n",
    "    display(select)\n",
    "\n",
    "def insert_servico(b):\n",
    "    try:\n",
    "        cursor = con.cursor()\n",
    "        cursor.execute(\"INSERT INTO servico(nome, descricao, preco, cnpj_instituicao_saude) VALUES (%s, %s, %s, %s)\",\n",
    "                       (txt_nome_servico.value, txt_descricao_servico.value, txt_preco_servico.value, txt_cnpj_instituicao_servico.value))\n",
    "        con.commit()\n",
    "    except:\n",
    "        cursor.execute(\"ROLLBACK\")\n",
    "        clear_all_output()\n",
    "        display_servicos_crud(b)\n",
    "        display(\"Não foi possível realizar a inserção. Verifique as restrições\")\n",
    "    finally:\n",
    "        cursor.close()\n",
    "\n",
    "def delete_servico(b):\n",
    "    try:\n",
    "        cursor =  con.cursor()\n",
    "        cursor.execute(\"DELETE FROM servico WHERE id = %s\",\n",
    "                       [txt_id_servico.value])\n",
    "        con.commit()\n",
    "    except:\n",
    "        cursor.execute(\"ROLLBACK\")\n",
    "        clear_all_output()\n",
    "        display_servicos_crud(b)\n",
    "        display(\"Não foi possível realizar a deleção. Verifique as restrições\")\n",
    "    finally:\n",
    "        cursor.close()\n",
    "\n",
    "def update_servico(b):\n",
    "    try:\n",
    "        cursor =  con.cursor()\n",
    "        cursor.execute(\"UPDATE servico SET nome = %s, descricao = %s, preco = %s WHERE id = %s\",\n",
    "                       (txt_nome_servico.value, txt_descricao_servico.value, txt_preco_servico.value, txt_id_servico.value))\n",
    "        con.commit()\n",
    "    except:\n",
    "        cursor.execute(\"ROLLBACK\")\n",
    "        clear_all_output()\n",
    "        display_servicos_crud(b)\n",
    "        display(\"Não foi possível realizar a atualização. Verifique as restrições\")\n",
    "    finally:\n",
    "        cursor.close()"
   ]
  },
  {
   "cell_type": "markdown",
   "metadata": {},
   "source": [
    "### CRUD Campanha"
   ]
  },
  {
   "cell_type": "code",
   "execution_count": 13,
   "metadata": {
    "pycharm": {
     "is_executing": true
    }
   },
   "outputs": [],
   "source": [
    "def get_all_campanha(b):\n",
    "    select = pd.read_sql(\"SELECT * FROM campanha\", con)\n",
    "    display_campanha_crud(b)\n",
    "    display(select)\n",
    "\n",
    "def insert_campanha(b):\n",
    "    try:\n",
    "        cursor = con.cursor()\n",
    "        cursor.execute(\"INSERT INTO campanha(titulo, descricao, id_endereco, cnpj_instituicao, data_inicio, data_final) VALUES (%s, %s, %s, %s, %s, %s)\",\n",
    "                       (txt_titulo_campanha.value, txt_descricao_campanha.value, txt_id_endereco_campanha.value, txt_cnpj_instituicao_campanha.value, data_inicio_campanha.value, data_final_campanha.value))\n",
    "        con.commit()\n",
    "    except:\n",
    "        cursor.execute(\"ROLLBACK\")\n",
    "        clear_all_output()\n",
    "        display_campanha_crud(b)\n",
    "        display(\"Não foi possível realizar a inserção. Verifique as restrições\")\n",
    "    finally:\n",
    "        cursor.close()\n",
    "\n",
    "def delete_campanha(b):\n",
    "    try:\n",
    "        cursor =  con.cursor()\n",
    "        cursor.execute(\"DELETE FROM campanha WHERE id = %s\",\n",
    "                       [txt_id_campanha.value])\n",
    "        con.commit()\n",
    "    except:\n",
    "        cursor.execute(\"ROLLBACK\")\n",
    "        clear_all_output()\n",
    "        display_campanha_crud(b)\n",
    "        display(\"Não foi possível realizar a deleção. Verifique as restrições\")\n",
    "    finally:\n",
    "        cursor.close()\n",
    "\n",
    "def update_campanha(b):\n",
    "    try:\n",
    "        cursor =  con.cursor()\n",
    "        cursor.execute(\"UPDATE campanha SET titulo = %s, descricao = %s, data_inicio = %s, data_final = %s WHERE id = %s\",\n",
    "                       (txt_titulo_campanha.value, txt_descricao_campanha.value, data_inicio_campanha.value, data_final_campanha.value, txt_id_campanha.value))\n",
    "        con.commit()\n",
    "    except:\n",
    "        cursor.execute(\"ROLLBACK\")\n",
    "        clear_all_output()\n",
    "        display_campanha_crud(b)\n",
    "        display(\"Não foi possível realizar a atualização. Verifique as restrições\")\n",
    "    finally:\n",
    "        cursor.close()"
   ]
  },
  {
   "cell_type": "markdown",
   "metadata": {},
   "source": [
    "## Consultas"
   ]
  },
  {
   "cell_type": "code",
   "execution_count": 14,
   "metadata": {
    "pycharm": {
     "is_executing": true
    }
   },
   "outputs": [],
   "source": [
    "def query_instituicoes_cidade(b):\n",
    "    select = pd.read_sql(\"SELECT * FROM nomes_instituices\", con)\n",
    "    display_consultas(b)\n",
    "    display(select)\n",
    "\n",
    "def query_servicos_por_instituicao(b):\n",
    "    select = pd.read_sql(\"SELECT * FROM servicos_e_instituicoes\", con)\n",
    "    display_consultas(b)\n",
    "    display(select)\n",
    "\n",
    "def query_campanhas_data(b):\n",
    "    query = \"SELECT * FROM campanhas_vigentes\"\n",
    "    select = pd.read_sql(query, con)\n",
    "    display_consultas(b)\n",
    "    display(select)\n",
    "\n",
    "def query_instituicoes_servico(b):\n",
    "    query = \"SELECT * FROM servicos_e_instituicoes WHERE UPPER(nome_servico) LIKE UPPER('%\" + txt_search_bar.value + \"%')\"\n",
    "\n",
    "    select = pd.read_sql(query, con)\n",
    "    display_consultas(b)\n",
    "    display_buscar_servico(b)\n",
    "    display(select)\n",
    "    \n",
    "def query_medicos_instituicao(b):\n",
    "    query = \"SELECT * FROM medico_instituicao WHERE UPPER(instituicao) LIKE UPPER('%\" + txt_search_bar.value + \"%')\"\n",
    "    \n",
    "    select = pd.read_sql(query, con)\n",
    "    display_consultas(b)\n",
    "    display_medicos_instituicao(b)\n",
    "    display(select)\n",
    "    \n",
    "def query_horarios_instituicao(b):\n",
    "    query = \"SELECT * FROM horario_instituicao WHERE UPPER(nome) LIKE UPPER('%\" + txt_search_bar.value + \"%')\"\n",
    "    select = pd.read_sql(query, con)\n",
    "    display_consultas(b)\n",
    "    display_horarios_instituicao(b)\n",
    "    display(select)\n",
    "\n",
    "def query_qnt_campanhas(b):\n",
    "    query = \"SELECT * FROM qnt_campanhas\"\n",
    "    select = pd.read_sql(query, con)\n",
    "    display_consultas(b)\n",
    "    display(select)\n",
    "\n",
    "def query_enderecos_instituicao(b):\n",
    "    query = \"SELECT * FROM endereco_instituicao WHERE UPPER(nome) LIKE UPPER('%\" + txt_search_bar.value + \"%')\"\n",
    "    select = pd.read_sql(query, con)\n",
    "    display_consultas(b)\n",
    "    display_enderecos_instituicao(b)\n",
    "    display(select)\n",
    "\n",
    "def query_contatos_instituicao(b):\n",
    "    query = \"SELECT * FROM contato_instituicao WHERE UPPER(instituicao) LIKE UPPER('%\" + txt_search_bar.value + \"%')\"\n",
    "    select = pd.read_sql(query, con)\n",
    "    display_consultas(b)\n",
    "    display_contatos_instituicao(b)\n",
    "    display(select)\n",
    "\n",
    "def query_proximas_campanhas(b):\n",
    "    query = \"SELECT * FROM proximas_campanhas\"\n",
    "    select = pd.read_sql(query, con)\n",
    "    display_consultas(b)\n",
    "    display(select)"
   ]
  },
  {
   "cell_type": "markdown",
   "metadata": {},
   "source": [
    "## Displays"
   ]
  },
  {
   "cell_type": "markdown",
   "metadata": {},
   "source": [
    "### Displays Gerais"
   ]
  },
  {
   "cell_type": "code",
   "execution_count": 15,
   "metadata": {
    "pycharm": {
     "is_executing": true
    }
   },
   "outputs": [],
   "source": [
    "def clear_all_output():\n",
    "    for i in range(10):\n",
    "        clear_output(wait=True)\n",
    "\n",
    "def display_menu(b):\n",
    "    clear_all_output()\n",
    "    display(btn_instituicoes, btn_campanhas, btn_servicos, btn_enderecos, btn_consultas)"
   ]
  },
  {
   "cell_type": "markdown",
   "metadata": {},
   "source": [
    "### Display Instituições"
   ]
  },
  {
   "cell_type": "code",
   "execution_count": 16,
   "metadata": {
    "pycharm": {
     "is_executing": true
    }
   },
   "outputs": [],
   "source": [
    "def display_instituicoes_crud(b):\n",
    "    clear_all_output()\n",
    "    display(lbl_instituicao)\n",
    "    display(txt_nome_instituicao, txt_cnpj_instituicao, txt_instituicao_id_endereco)\n",
    "    display(btn_insert_instituicao, btn_remove_instituicao, btn_update_instituicao, btn_get_all_instituicao, btn_menu)"
   ]
  },
  {
   "cell_type": "markdown",
   "metadata": {},
   "source": [
    "### Display Endereços"
   ]
  },
  {
   "cell_type": "code",
   "execution_count": 17,
   "metadata": {
    "pycharm": {
     "is_executing": true
    }
   },
   "outputs": [],
   "source": [
    "def display_enderecos_crud(b):\n",
    "    clear_all_output()\n",
    "    display(lbl_enderecos)\n",
    "    display(txt_bairro_instituicao, txt_id_endereco, txt_rua_instituicao, txt_numero_instituicao)\n",
    "    display(btn_insert_enderecos, btn_remove_enderecos, btn_update_enderecos, btn_get_all_enderecos, btn_menu)"
   ]
  },
  {
   "cell_type": "markdown",
   "metadata": {},
   "source": [
    "### Display Serviço"
   ]
  },
  {
   "cell_type": "code",
   "execution_count": 18,
   "metadata": {
    "pycharm": {
     "is_executing": true
    }
   },
   "outputs": [],
   "source": [
    "def display_servicos_crud(b):\n",
    "    clear_all_output()\n",
    "    display(lbl_servico)\n",
    "    display(txt_nome_servico, txt_id_servico, txt_preco_servico, txt_descricao_servico, txt_cnpj_instituicao_servico)\n",
    "    display(btn_insert_servico, btn_remove_servico, btn_update_servico, btn_get_all_servico, btn_menu)"
   ]
  },
  {
   "cell_type": "markdown",
   "metadata": {},
   "source": [
    "### Display Campanha"
   ]
  },
  {
   "cell_type": "code",
   "execution_count": 19,
   "metadata": {
    "pycharm": {
     "is_executing": true
    }
   },
   "outputs": [],
   "source": [
    "def display_campanha_crud(b):\n",
    "    clear_all_output()\n",
    "    display(lbl_campanha)\n",
    "    display(txt_titulo_campanha, txt_descricao_campanha, txt_id_campanha, txt_id_endereco_campanha, txt_cnpj_instituicao_campanha, data_inicio_campanha,data_final_campanha)\n",
    "    display(btn_insert_campanha, btn_remove_campanha, btn_update_campanha, btn_get_all_campanha, btn_menu)"
   ]
  },
  {
   "cell_type": "markdown",
   "metadata": {},
   "source": [
    "### Display Consultas"
   ]
  },
  {
   "cell_type": "code",
   "execution_count": 20,
   "metadata": {
    "pycharm": {
     "is_executing": true
    }
   },
   "outputs": [],
   "source": [
    "def display_consultas(b):\n",
    "    clear_all_output()\n",
    "    display(btn_menu, dropdown_query)\n",
    "\n",
    "def mudar_consulta(b):\n",
    "    value_consulta = dropdown_query.value\n",
    "    if value_consulta == 0:\n",
    "        query_instituicoes_cidade(b)\n",
    "    elif value_consulta == 1:\n",
    "        query_servicos_por_instituicao(b)\n",
    "    elif value_consulta == 2:\n",
    "        query_campanhas_data(b)\n",
    "    elif value_consulta == 3:\n",
    "        display_buscar_servico(b)\n",
    "    elif value_consulta == 4:\n",
    "        display_medicos_instituicao(b)\n",
    "    elif value_consulta == 5: \n",
    "        display_horarios_instituicao(b)\n",
    "    elif value_consulta == 6:\n",
    "        query_qnt_campanhas(b)\n",
    "    elif value_consulta == 7:\n",
    "        display_enderecos_instituicao(b)\n",
    "    elif value_consulta == 8:\n",
    "        display_contatos_instituicao(b)\n",
    "    elif value_consulta == 9:\n",
    "        query_proximas_campanhas(b)\n",
    "\n",
    "def display_buscar_servico(b):\n",
    "    clear_all_output()\n",
    "    display_consultas(b)\n",
    "    display(txt_search_bar, btn_search)\n",
    "    \n",
    "def display_medicos_instituicao(b):\n",
    "    clear_all_output()\n",
    "    display_consultas(b)\n",
    "    display(txt_search_bar, btn_search_medicos_instituicao)\n",
    "    \n",
    "def display_horarios_instituicao(b):\n",
    "    clear_all_output()\n",
    "    display_consultas(b)\n",
    "    display(txt_search_bar, btn_search_horarios_instituicao)\n",
    "\n",
    "def display_enderecos_instituicao(b):\n",
    "    clear_all_output()\n",
    "    display_consultas(b)\n",
    "    display(txt_search_bar, btn_search_enderecos_instituicao)\n",
    "    \n",
    "def display_contatos_instituicao(b):\n",
    "    clear_all_output()\n",
    "    display_consultas(b)\n",
    "    display(txt_search_bar, btn_search_contatos_instituicao)\n"
   ]
  },
  {
   "cell_type": "markdown",
   "metadata": {},
   "source": [
    "## Eventos"
   ]
  },
  {
   "cell_type": "markdown",
   "metadata": {},
   "source": [
    "### Eventos gerais"
   ]
  },
  {
   "cell_type": "code",
   "execution_count": 21,
   "metadata": {
    "pycharm": {
     "is_executing": true
    }
   },
   "outputs": [],
   "source": [
    "btn_menu.on_click(display_menu)\n",
    "btn_instituicoes.on_click(display_instituicoes_crud)\n",
    "btn_enderecos.on_click(display_enderecos_crud)\n",
    "btn_servicos.on_click(display_servicos_crud)\n",
    "btn_campanhas.on_click(display_campanha_crud)\n",
    "btn_consultas.on_click(display_consultas)"
   ]
  },
  {
   "cell_type": "markdown",
   "metadata": {},
   "source": [
    "### Eventos de endereço"
   ]
  },
  {
   "cell_type": "code",
   "execution_count": 22,
   "metadata": {
    "pycharm": {
     "is_executing": true
    }
   },
   "outputs": [],
   "source": [
    "btn_insert_enderecos.on_click(insert_enderecos)\n",
    "btn_get_all_enderecos.on_click(get_all_enderecos)\n",
    "btn_remove_enderecos.on_click(delete_enderecos)\n",
    "btn_update_enderecos.on_click(update_enderecos)"
   ]
  },
  {
   "cell_type": "markdown",
   "metadata": {},
   "source": [
    "### Eventos de instituição"
   ]
  },
  {
   "cell_type": "code",
   "execution_count": 23,
   "metadata": {
    "pycharm": {
     "is_executing": true
    }
   },
   "outputs": [],
   "source": [
    "btn_get_all_instituicao.on_click(get_all_instituicao)\n",
    "btn_insert_instituicao.on_click(insert_instituicao)\n",
    "btn_remove_instituicao.on_click(delete_instituicao)\n",
    "btn_update_instituicao.on_click(update_instituicao)"
   ]
  },
  {
   "cell_type": "markdown",
   "metadata": {},
   "source": [
    "### Eventos de Servicos"
   ]
  },
  {
   "cell_type": "code",
   "execution_count": 24,
   "metadata": {
    "pycharm": {
     "is_executing": true
    }
   },
   "outputs": [],
   "source": [
    "btn_get_all_servico.on_click(get_all_servico)\n",
    "btn_insert_servico.on_click(insert_servico)\n",
    "btn_remove_servico.on_click(delete_servico)\n",
    "btn_update_servico.on_click(update_servico)"
   ]
  },
  {
   "cell_type": "markdown",
   "metadata": {},
   "source": [
    "### Eventos de Campanhas"
   ]
  },
  {
   "cell_type": "code",
   "execution_count": 25,
   "metadata": {
    "pycharm": {
     "is_executing": true
    }
   },
   "outputs": [],
   "source": [
    "btn_get_all_campanha.on_click(get_all_campanha)\n",
    "btn_insert_campanha.on_click(insert_campanha)\n",
    "btn_remove_campanha.on_click(delete_campanha)\n",
    "btn_update_campanha.on_click(update_campanha)"
   ]
  },
  {
   "cell_type": "markdown",
   "metadata": {},
   "source": [
    "### Eventos de consultas"
   ]
  },
  {
   "cell_type": "code",
   "execution_count": 26,
   "metadata": {
    "pycharm": {
     "is_executing": true
    },
    "scrolled": true
   },
   "outputs": [
    {
     "name": "stderr",
     "output_type": "stream",
     "text": [
      "C:\\Users\\victor.vieira\\AppData\\Local\\Temp\\ipykernel_6836\\3905288489.py:1: DeprecationWarning: on_trait_change is deprecated in traitlets 4.1: use observe instead\n",
      "  dropdown_query.on_trait_change(mudar_consulta)\n"
     ]
    }
   ],
   "source": [
    "dropdown_query.on_trait_change(mudar_consulta)\n",
    "btn_search.on_click(query_instituicoes_servico)\n",
    "btn_search_medicos_instituicao.on_click(query_medicos_instituicao)\n",
    "btn_search_horarios_instituicao.on_click(query_horarios_instituicao)\n",
    "btn_search_contatos_instituicao.on_click(query_contatos_instituicao)\n",
    "btn_search_enderecos_instituicao.on_click(query_enderecos_instituicao)"
   ]
  },
  {
   "cell_type": "markdown",
   "metadata": {},
   "source": [
    "## Main"
   ]
  },
  {
   "cell_type": "code",
   "execution_count": 27,
   "metadata": {
    "pycharm": {
     "is_executing": true
    },
    "scrolled": true
   },
   "outputs": [
    {
     "data": {
      "application/vnd.jupyter.widget-view+json": {
       "model_id": "77cd1c90252c43a1958f77e6aea2a563",
       "version_major": 2,
       "version_minor": 0
      },
      "text/plain": [
       "Label(value='Campanhas')"
      ]
     },
     "metadata": {},
     "output_type": "display_data"
    },
    {
     "data": {
      "application/vnd.jupyter.widget-view+json": {
       "model_id": "ff83ecc0f198465abfb402ade4a2cca2",
       "version_major": 2,
       "version_minor": 0
      },
      "text/plain": [
       "Text(value='Teste', description='Nome: ', placeholder='Digite o nome')"
      ]
     },
     "metadata": {},
     "output_type": "display_data"
    },
    {
     "data": {
      "application/vnd.jupyter.widget-view+json": {
       "model_id": "aad4d55e2fee43a3b662acab9bbf043b",
       "version_major": 2,
       "version_minor": 0
      },
      "text/plain": [
       "Textarea(value='Teste descrição', description='Descrição: ', placeholder='Digite a Descrição')"
      ]
     },
     "metadata": {},
     "output_type": "display_data"
    },
    {
     "data": {
      "application/vnd.jupyter.widget-view+json": {
       "model_id": "acd966598f224350a84f13b0b9de110f",
       "version_major": 2,
       "version_minor": 0
      },
      "text/plain": [
       "BoundedIntText(value=1, description='Id: ', min=1)"
      ]
     },
     "metadata": {},
     "output_type": "display_data"
    },
    {
     "data": {
      "application/vnd.jupyter.widget-view+json": {
       "model_id": "f279e64fe5904a34bc36b1642c3f0713",
       "version_major": 2,
       "version_minor": 0
      },
      "text/plain": [
       "BoundedIntText(value=1, description='Id Endereço: ', min=1)"
      ]
     },
     "metadata": {},
     "output_type": "display_data"
    },
    {
     "data": {
      "application/vnd.jupyter.widget-view+json": {
       "model_id": "7d538521cc05476fad295a307c4f5078",
       "version_major": 2,
       "version_minor": 0
      },
      "text/plain": [
       "Text(value='05.703.810/0001-28', description='CNPJ Instituição: ', placeholder='Digite o CNJP da instituição')"
      ]
     },
     "metadata": {},
     "output_type": "display_data"
    },
    {
     "data": {
      "application/vnd.jupyter.widget-view+json": {
       "model_id": "f1fcc6e43c7d4f1e941f95f7c3910969",
       "version_major": 2,
       "version_minor": 0
      },
      "text/plain": [
       "DatePicker(value=datetime.date(2022, 12, 11), description='Data de início: ')"
      ]
     },
     "metadata": {},
     "output_type": "display_data"
    },
    {
     "data": {
      "application/vnd.jupyter.widget-view+json": {
       "model_id": "469df8f32b3a47e5bcb8e7fe30d8b27b",
       "version_major": 2,
       "version_minor": 0
      },
      "text/plain": [
       "DatePicker(value=datetime.date(2022, 12, 30), description='Data de término: ')"
      ]
     },
     "metadata": {},
     "output_type": "display_data"
    },
    {
     "data": {
      "application/vnd.jupyter.widget-view+json": {
       "model_id": "70da74e52a7147e59c748c9dac8c124b",
       "version_major": 2,
       "version_minor": 0
      },
      "text/plain": [
       "Button(description='Inserir', style=ButtonStyle())"
      ]
     },
     "metadata": {},
     "output_type": "display_data"
    },
    {
     "data": {
      "application/vnd.jupyter.widget-view+json": {
       "model_id": "ffacf00aac05446788285d1dec50ba97",
       "version_major": 2,
       "version_minor": 0
      },
      "text/plain": [
       "Button(description='Remover', style=ButtonStyle())"
      ]
     },
     "metadata": {},
     "output_type": "display_data"
    },
    {
     "data": {
      "application/vnd.jupyter.widget-view+json": {
       "model_id": "19c095acd9e142279acff00a919778f0",
       "version_major": 2,
       "version_minor": 0
      },
      "text/plain": [
       "Button(description='Atualizar', style=ButtonStyle())"
      ]
     },
     "metadata": {},
     "output_type": "display_data"
    },
    {
     "data": {
      "application/vnd.jupyter.widget-view+json": {
       "model_id": "77c2ff473a3042359fab9ef32b55bd7f",
       "version_major": 2,
       "version_minor": 0
      },
      "text/plain": [
       "Button(description='Ver Todos', style=ButtonStyle())"
      ]
     },
     "metadata": {},
     "output_type": "display_data"
    },
    {
     "data": {
      "application/vnd.jupyter.widget-view+json": {
       "model_id": "e53f05380d03449fb8ebaf6379de63ae",
       "version_major": 2,
       "version_minor": 0
      },
      "text/plain": [
       "Button(description='Menu', style=ButtonStyle())"
      ]
     },
     "metadata": {},
     "output_type": "display_data"
    },
    {
     "data": {
      "text/html": [
       "<div>\n",
       "<style scoped>\n",
       "    .dataframe tbody tr th:only-of-type {\n",
       "        vertical-align: middle;\n",
       "    }\n",
       "\n",
       "    .dataframe tbody tr th {\n",
       "        vertical-align: top;\n",
       "    }\n",
       "\n",
       "    .dataframe thead th {\n",
       "        text-align: right;\n",
       "    }\n",
       "</style>\n",
       "<table border=\"1\" class=\"dataframe\">\n",
       "  <thead>\n",
       "    <tr style=\"text-align: right;\">\n",
       "      <th></th>\n",
       "      <th>titulo</th>\n",
       "      <th>descricao</th>\n",
       "      <th>id</th>\n",
       "      <th>id_endereco</th>\n",
       "      <th>cnpj_instituicao</th>\n",
       "      <th>data_inicio</th>\n",
       "      <th>data_final</th>\n",
       "    </tr>\n",
       "  </thead>\n",
       "  <tbody>\n",
       "    <tr>\n",
       "      <th>0</th>\n",
       "      <td>Combate ao Mosquito Aedes AEgypti</td>\n",
       "      <td>Campanha de conscientização sobre o combate ao...</td>\n",
       "      <td>1</td>\n",
       "      <td>1</td>\n",
       "      <td>51.240.931/0001-06</td>\n",
       "      <td>2022-11-27</td>\n",
       "      <td>2022-12-20</td>\n",
       "    </tr>\n",
       "    <tr>\n",
       "      <th>1</th>\n",
       "      <td>Combate à Varióla dos macacos</td>\n",
       "      <td>Campanha de conscientizção sobre o combate a v...</td>\n",
       "      <td>2</td>\n",
       "      <td>2</td>\n",
       "      <td>26.067.033/0001-42</td>\n",
       "      <td>2022-11-29</td>\n",
       "      <td>2022-12-24</td>\n",
       "    </tr>\n",
       "    <tr>\n",
       "      <th>2</th>\n",
       "      <td>Combate à Raiva</td>\n",
       "      <td>Campanha de combate à raiva nos animais domést...</td>\n",
       "      <td>3</td>\n",
       "      <td>3</td>\n",
       "      <td>04.685.375/0001-93</td>\n",
       "      <td>2022-11-10</td>\n",
       "      <td>2022-12-20</td>\n",
       "    </tr>\n",
       "    <tr>\n",
       "      <th>3</th>\n",
       "      <td>Doação de sangue</td>\n",
       "      <td>Campanha de doação de sangue</td>\n",
       "      <td>4</td>\n",
       "      <td>4</td>\n",
       "      <td>04.685.375/0001-93</td>\n",
       "      <td>2022-11-01</td>\n",
       "      <td>2022-12-30</td>\n",
       "    </tr>\n",
       "    <tr>\n",
       "      <th>4</th>\n",
       "      <td>Combate à gripe</td>\n",
       "      <td>Campanha de vacinação contra a gripe</td>\n",
       "      <td>5</td>\n",
       "      <td>5</td>\n",
       "      <td>88.806.377/0001-83</td>\n",
       "      <td>2022-12-05</td>\n",
       "      <td>2022-12-31</td>\n",
       "    </tr>\n",
       "    <tr>\n",
       "      <th>5</th>\n",
       "      <td>Saúde da mulher</td>\n",
       "      <td>Do pré-natal à prevenção do câncer</td>\n",
       "      <td>6</td>\n",
       "      <td>6</td>\n",
       "      <td>24.786.414/0001-56</td>\n",
       "      <td>2022-08-15</td>\n",
       "      <td>2022-09-20</td>\n",
       "    </tr>\n",
       "    <tr>\n",
       "      <th>6</th>\n",
       "      <td>Combate a doença de chagas</td>\n",
       "      <td>Campanha de combate a doença de chagas</td>\n",
       "      <td>7</td>\n",
       "      <td>7</td>\n",
       "      <td>24.786.414/0001-56</td>\n",
       "      <td>2022-06-01</td>\n",
       "      <td>2022-06-12</td>\n",
       "    </tr>\n",
       "    <tr>\n",
       "      <th>7</th>\n",
       "      <td>Prevenção do Coronavírus</td>\n",
       "      <td>Campanha de conscientização sobre a proteção c...</td>\n",
       "      <td>8</td>\n",
       "      <td>8</td>\n",
       "      <td>27.771.002/0001-30</td>\n",
       "      <td>2022-01-30</td>\n",
       "      <td>2022-02-28</td>\n",
       "    </tr>\n",
       "    <tr>\n",
       "      <th>8</th>\n",
       "      <td>Novembro Azul</td>\n",
       "      <td>Mês da camapanha contra o câncer de próstata</td>\n",
       "      <td>9</td>\n",
       "      <td>9</td>\n",
       "      <td>35.228.777/0001-92</td>\n",
       "      <td>2022-11-27</td>\n",
       "      <td>2022-12-20</td>\n",
       "    </tr>\n",
       "    <tr>\n",
       "      <th>9</th>\n",
       "      <td>Dia Mundial de luta contra a AIDS</td>\n",
       "      <td>Dia voltado para a conscientização sobre a pre...</td>\n",
       "      <td>10</td>\n",
       "      <td>10</td>\n",
       "      <td>62.422.492/0001-60</td>\n",
       "      <td>2022-09-27</td>\n",
       "      <td>2022-10-11</td>\n",
       "    </tr>\n",
       "    <tr>\n",
       "      <th>10</th>\n",
       "      <td>Vacinação contra covid</td>\n",
       "      <td>Campanha de vacinação contra a Covid-19</td>\n",
       "      <td>11</td>\n",
       "      <td>8</td>\n",
       "      <td>92.559.120/0001-41</td>\n",
       "      <td>2023-01-02</td>\n",
       "      <td>2023-01-20</td>\n",
       "    </tr>\n",
       "    <tr>\n",
       "      <th>11</th>\n",
       "      <td>Vacinação contra o sarampo</td>\n",
       "      <td>Campanha de vacinação contra o sarampo</td>\n",
       "      <td>12</td>\n",
       "      <td>8</td>\n",
       "      <td>92.559.120/0001-41</td>\n",
       "      <td>2022-11-27</td>\n",
       "      <td>2022-12-20</td>\n",
       "    </tr>\n",
       "    <tr>\n",
       "      <th>12</th>\n",
       "      <td>Vacinação contra a poliomelite</td>\n",
       "      <td>Campanha de vacinação contra a poliomelite</td>\n",
       "      <td>13</td>\n",
       "      <td>8</td>\n",
       "      <td>92.559.120/0001-41</td>\n",
       "      <td>2022-05-15</td>\n",
       "      <td>2022-05-30</td>\n",
       "    </tr>\n",
       "    <tr>\n",
       "      <th>13</th>\n",
       "      <td>Vacinação contra a H1N1</td>\n",
       "      <td>Campanha de vacinação contra a H1N1</td>\n",
       "      <td>14</td>\n",
       "      <td>8</td>\n",
       "      <td>92.559.120/0001-41</td>\n",
       "      <td>2022-04-04</td>\n",
       "      <td>2022-04-21</td>\n",
       "    </tr>\n",
       "    <tr>\n",
       "      <th>14</th>\n",
       "      <td>Vacinação contra a tuberculose</td>\n",
       "      <td>Campanha de vacinação contra a tuberculose</td>\n",
       "      <td>15</td>\n",
       "      <td>8</td>\n",
       "      <td>92.559.120/0001-41</td>\n",
       "      <td>2022-07-06</td>\n",
       "      <td>2022-07-17</td>\n",
       "    </tr>\n",
       "    <tr>\n",
       "      <th>15</th>\n",
       "      <td>Vacinação contra sarampo</td>\n",
       "      <td>Campanha de vacinação contra o sarampo</td>\n",
       "      <td>16</td>\n",
       "      <td>8</td>\n",
       "      <td>92.559.120/0001-41</td>\n",
       "      <td>2022-11-25</td>\n",
       "      <td>2022-12-02</td>\n",
       "    </tr>\n",
       "    <tr>\n",
       "      <th>16</th>\n",
       "      <td>Vacinação contra a Hepatite</td>\n",
       "      <td>Campanha de vacinação contra a hepatite</td>\n",
       "      <td>17</td>\n",
       "      <td>8</td>\n",
       "      <td>92.559.120/0001-41</td>\n",
       "      <td>2022-11-07</td>\n",
       "      <td>2022-11-30</td>\n",
       "    </tr>\n",
       "    <tr>\n",
       "      <th>17</th>\n",
       "      <td>Vacinação contra a febre amarela</td>\n",
       "      <td>Campanha de vacinação contra a febre amarela</td>\n",
       "      <td>18</td>\n",
       "      <td>8</td>\n",
       "      <td>92.559.120/0001-41</td>\n",
       "      <td>2022-12-01</td>\n",
       "      <td>2022-12-31</td>\n",
       "    </tr>\n",
       "    <tr>\n",
       "      <th>18</th>\n",
       "      <td>Vacinação contra a Herpes</td>\n",
       "      <td>Campanha de vacinação contra a herpes</td>\n",
       "      <td>19</td>\n",
       "      <td>8</td>\n",
       "      <td>92.559.120/0001-41</td>\n",
       "      <td>2022-02-01</td>\n",
       "      <td>2022-02-20</td>\n",
       "    </tr>\n",
       "    <tr>\n",
       "      <th>19</th>\n",
       "      <td>Teste</td>\n",
       "      <td>Teste descrição</td>\n",
       "      <td>22</td>\n",
       "      <td>1</td>\n",
       "      <td>05.703.810/0001-28</td>\n",
       "      <td>2022-12-11</td>\n",
       "      <td>2022-12-30</td>\n",
       "    </tr>\n",
       "  </tbody>\n",
       "</table>\n",
       "</div>"
      ],
      "text/plain": [
       "                               titulo  \\\n",
       "0   Combate ao Mosquito Aedes AEgypti   \n",
       "1       Combate à Varióla dos macacos   \n",
       "2                     Combate à Raiva   \n",
       "3                    Doação de sangue   \n",
       "4                     Combate à gripe   \n",
       "5                     Saúde da mulher   \n",
       "6          Combate a doença de chagas   \n",
       "7            Prevenção do Coronavírus   \n",
       "8                       Novembro Azul   \n",
       "9   Dia Mundial de luta contra a AIDS   \n",
       "10             Vacinação contra covid   \n",
       "11         Vacinação contra o sarampo   \n",
       "12     Vacinação contra a poliomelite   \n",
       "13            Vacinação contra a H1N1   \n",
       "14     Vacinação contra a tuberculose   \n",
       "15           Vacinação contra sarampo   \n",
       "16        Vacinação contra a Hepatite   \n",
       "17   Vacinação contra a febre amarela   \n",
       "18          Vacinação contra a Herpes   \n",
       "19                              Teste   \n",
       "\n",
       "                                            descricao  id  id_endereco  \\\n",
       "0   Campanha de conscientização sobre o combate ao...   1            1   \n",
       "1   Campanha de conscientizção sobre o combate a v...   2            2   \n",
       "2   Campanha de combate à raiva nos animais domést...   3            3   \n",
       "3                        Campanha de doação de sangue   4            4   \n",
       "4                Campanha de vacinação contra a gripe   5            5   \n",
       "5                  Do pré-natal à prevenção do câncer   6            6   \n",
       "6              Campanha de combate a doença de chagas   7            7   \n",
       "7   Campanha de conscientização sobre a proteção c...   8            8   \n",
       "8        Mês da camapanha contra o câncer de próstata   9            9   \n",
       "9   Dia voltado para a conscientização sobre a pre...  10           10   \n",
       "10            Campanha de vacinação contra a Covid-19  11            8   \n",
       "11             Campanha de vacinação contra o sarampo  12            8   \n",
       "12         Campanha de vacinação contra a poliomelite  13            8   \n",
       "13                Campanha de vacinação contra a H1N1  14            8   \n",
       "14         Campanha de vacinação contra a tuberculose  15            8   \n",
       "15             Campanha de vacinação contra o sarampo  16            8   \n",
       "16            Campanha de vacinação contra a hepatite  17            8   \n",
       "17       Campanha de vacinação contra a febre amarela  18            8   \n",
       "18              Campanha de vacinação contra a herpes  19            8   \n",
       "19                                    Teste descrição  22            1   \n",
       "\n",
       "      cnpj_instituicao data_inicio  data_final  \n",
       "0   51.240.931/0001-06  2022-11-27  2022-12-20  \n",
       "1   26.067.033/0001-42  2022-11-29  2022-12-24  \n",
       "2   04.685.375/0001-93  2022-11-10  2022-12-20  \n",
       "3   04.685.375/0001-93  2022-11-01  2022-12-30  \n",
       "4   88.806.377/0001-83  2022-12-05  2022-12-31  \n",
       "5   24.786.414/0001-56  2022-08-15  2022-09-20  \n",
       "6   24.786.414/0001-56  2022-06-01  2022-06-12  \n",
       "7   27.771.002/0001-30  2022-01-30  2022-02-28  \n",
       "8   35.228.777/0001-92  2022-11-27  2022-12-20  \n",
       "9   62.422.492/0001-60  2022-09-27  2022-10-11  \n",
       "10  92.559.120/0001-41  2023-01-02  2023-01-20  \n",
       "11  92.559.120/0001-41  2022-11-27  2022-12-20  \n",
       "12  92.559.120/0001-41  2022-05-15  2022-05-30  \n",
       "13  92.559.120/0001-41  2022-04-04  2022-04-21  \n",
       "14  92.559.120/0001-41  2022-07-06  2022-07-17  \n",
       "15  92.559.120/0001-41  2022-11-25  2022-12-02  \n",
       "16  92.559.120/0001-41  2022-11-07  2022-11-30  \n",
       "17  92.559.120/0001-41  2022-12-01  2022-12-31  \n",
       "18  92.559.120/0001-41  2022-02-01  2022-02-20  \n",
       "19  05.703.810/0001-28  2022-12-11  2022-12-30  "
      ]
     },
     "metadata": {},
     "output_type": "display_data"
    }
   ],
   "source": [
    "clear_all_output()\n",
    "display(btn_instituicoes, btn_campanhas, btn_servicos, btn_enderecos, btn_consultas)"
   ]
  },
  {
   "cell_type": "code",
   "execution_count": null,
   "metadata": {
    "pycharm": {
     "is_executing": true
    }
   },
   "outputs": [],
   "source": []
  }
 ],
 "metadata": {
  "kernelspec": {
   "display_name": "Python 3 (ipykernel)",
   "language": "python",
   "name": "python3"
  },
  "language_info": {
   "codemirror_mode": {
    "name": "ipython",
    "version": 3
   },
   "file_extension": ".py",
   "mimetype": "text/x-python",
   "name": "python",
   "nbconvert_exporter": "python",
   "pygments_lexer": "ipython3",
   "version": "3.9.13"
  }
 },
 "nbformat": 4,
 "nbformat_minor": 1
}
